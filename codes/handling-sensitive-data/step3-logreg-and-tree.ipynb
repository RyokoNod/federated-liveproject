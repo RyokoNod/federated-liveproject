{
 "cells": [
  {
   "cell_type": "markdown",
   "id": "b25c8e32",
   "metadata": {},
   "source": [
    "# 2. Logistic Regression and Decision Trees\n",
    "\n",
    "This notebook contains the workflow for the third milestone in the Manning liveProject *Handling Sensitive Data.*"
   ]
  },
  {
   "cell_type": "code",
   "execution_count": 1,
   "id": "e88161a0",
   "metadata": {},
   "outputs": [],
   "source": [
    "import pandas as pd\n",
    "import numpy as np\n",
    "import os.path\n",
    "from scipy.fft import fft\n",
    "from scipy.io import wavfile\n",
    "from sklearn.model_selection import train_test_split\n",
    "from sklearn.linear_model import LogisticRegression\n",
    "from sklearn.tree import DecisionTreeClassifier\n",
    "from sklearn.metrics import accuracy_score"
   ]
  },
  {
   "cell_type": "markdown",
   "id": "d4cd4672",
   "metadata": {},
   "source": [
    "## Read data (copied from milestone 1)"
   ]
  },
  {
   "cell_type": "code",
   "execution_count": 2,
   "id": "dd545aeb",
   "metadata": {},
   "outputs": [],
   "source": [
    "csvpath = \"../../data/\" # path to csv file\n",
    "wavpath = \"../../data/Recordings/\" # path to the folder with wav files"
   ]
  },
  {
   "cell_type": "code",
   "execution_count": 3,
   "id": "49c4afd4",
   "metadata": {},
   "outputs": [],
   "source": [
    "# import metadata\n",
    "meta = pd.read_csv(csvpath + \"Covid19Study_June2021.csv\", delimiter=\";\") \n",
    "\n",
    "# importing the wav files\n",
    "wavdata = []\n",
    "\n",
    "for pid in meta[\"ParticipantID\"].values:\n",
    "    if os.path.isfile(wavpath + \"RecordingParticipant\" + str(pid) +\".wav\"):\n",
    "        _, data = wavfile.read(wavpath + \"RecordingParticipant\" + str(pid) +\".wav\") # note: the wav files are 16-bit integer PCM\n",
    "    else:\n",
    "        sample_rate = 44100\n",
    "        data = np.zeros((10000,))\n",
    "    wavdata.append(np.array(data))"
   ]
  },
  {
   "cell_type": "markdown",
   "id": "a771b30d",
   "metadata": {},
   "source": [
    "## Create features (almost the same as milestone 2)"
   ]
  },
  {
   "cell_type": "code",
   "execution_count": 4,
   "id": "46c0a2e6",
   "metadata": {},
   "outputs": [],
   "source": [
    "raw_last8192 = [wav[-8192:] for wav in wavdata] # extract the last 8192 sample values from each recording\n",
    "fft_last8192 = [np.abs(fft(rawwav)) for rawwav in raw_last8192] # get the absolute Fourier transformed values"
   ]
  },
  {
   "cell_type": "code",
   "execution_count": 5,
   "id": "446a410e",
   "metadata": {},
   "outputs": [],
   "source": [
    "bins = [400,600,800,1000]\n",
    "X = np.zeros((len(fft_last8192), len(bins))) # array to store feature vectors\n",
    "\n",
    "# normalize the absolute Fourier transformed values for indices listed in bins\n",
    "for i in range(len(fft_last8192)):\n",
    "    X[i,:] = fft_last8192[i][bins] / np.max(fft_last8192[i])\n",
    "    \n",
    "# creating y from the dataframe values\n",
    "y = np.array(meta[\"Covid19\"].copy())\n",
    "y = np.where(y==\"y\",1,-1)\n",
    "y = y.reshape(-1,1)"
   ]
  },
  {
   "cell_type": "markdown",
   "id": "86f77b15",
   "metadata": {},
   "source": [
    "## Split features and labels"
   ]
  },
  {
   "cell_type": "code",
   "execution_count": 6,
   "id": "7bf3b93a",
   "metadata": {},
   "outputs": [],
   "source": [
    "random_state = 81"
   ]
  },
  {
   "cell_type": "code",
   "execution_count": 7,
   "id": "103d3ec4",
   "metadata": {},
   "outputs": [],
   "source": [
    "X_train, X_test, y_train, y_test = train_test_split(X, y, test_size=0.5, random_state=random_state)"
   ]
  },
  {
   "cell_type": "markdown",
   "id": "9b02dbe4",
   "metadata": {},
   "source": [
    "## Learning models and predicting"
   ]
  },
  {
   "cell_type": "code",
   "execution_count": 8,
   "id": "662f5639",
   "metadata": {},
   "outputs": [
    {
     "name": "stdout",
     "output_type": "stream",
     "text": [
      "***********Logistic regression accuracies***********\n",
      "Training accuracy: 0.53\n",
      "Test accuracy: 0.47\n"
     ]
    }
   ],
   "source": [
    "# train logistic regression and print the train and test accuracy\n",
    "logreg = LogisticRegression(random_state=random_state).fit(X_train,y_train.reshape(-1))\n",
    "lr_train_pred = logreg.predict(X_train)\n",
    "lr_test_pred = logreg.predict(X_test)\n",
    "\n",
    "lr_train_acc = accuracy_score(y_train.reshape(-1), lr_train_pred)\n",
    "lr_test_acc = accuracy_score(y_test.reshape(-1),lr_test_pred)\n",
    "\n",
    "print(\"***********Logistic regression accuracies***********\")\n",
    "print(\"Training accuracy:\",lr_train_acc)\n",
    "print(\"Test accuracy:\", lr_test_acc)"
   ]
  },
  {
   "cell_type": "code",
   "execution_count": 9,
   "id": "658d61a5",
   "metadata": {},
   "outputs": [
    {
     "name": "stdout",
     "output_type": "stream",
     "text": [
      "***********Decision tree accuracies***********\n",
      "Training accuracy: 1.0\n",
      "Test accuracy: 0.76\n"
     ]
    }
   ],
   "source": [
    "# train decision tree and print the train and test accuracy\n",
    "dtree = DecisionTreeClassifier(random_state=random_state).fit(X_train, y_train)\n",
    "dt_train_pred = dtree.predict(X_train)\n",
    "dt_test_pred = dtree.predict(X_test)\n",
    "\n",
    "dt_train_acc = accuracy_score(y_train, dt_train_pred)\n",
    "dt_test_acc = accuracy_score(y_test, dt_test_pred)\n",
    "\n",
    "print(\"***********Decision tree accuracies***********\")\n",
    "print(\"Training accuracy:\",dt_train_acc)\n",
    "print(\"Test accuracy:\", dt_test_acc)"
   ]
  },
  {
   "cell_type": "markdown",
   "id": "fb238816",
   "metadata": {},
   "source": [
    "## Whether the models overfit"
   ]
  },
  {
   "cell_type": "markdown",
   "id": "6c76bf9d",
   "metadata": {},
   "source": [
    "I think the decision tree overfits because it achieves 100% accuracy on the training set but only 76% on the test set. Doing perfect on the training set but not so much on the test set is a typical symptom of overfitting.\n",
    "\n",
    "Logistic regression did not overfit because the training accuracy and test accuracy is about the same. However, I don't think logistic regression is a good choice for these features because the score indicates that the accuracy is no better than a random guess."
   ]
  },
  {
   "cell_type": "code",
   "execution_count": null,
   "id": "8d840af7",
   "metadata": {},
   "outputs": [],
   "source": []
  }
 ],
 "metadata": {
  "kernelspec": {
   "display_name": "Python 3",
   "language": "python",
   "name": "python3"
  },
  "language_info": {
   "codemirror_mode": {
    "name": "ipython",
    "version": 3
   },
   "file_extension": ".py",
   "mimetype": "text/x-python",
   "name": "python",
   "nbconvert_exporter": "python",
   "pygments_lexer": "ipython3",
   "version": "3.8.3"
  }
 },
 "nbformat": 4,
 "nbformat_minor": 5
}

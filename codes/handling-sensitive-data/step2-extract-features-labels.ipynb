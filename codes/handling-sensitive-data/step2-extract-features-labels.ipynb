{
 "cells": [
  {
   "cell_type": "markdown",
   "id": "53f46468",
   "metadata": {},
   "source": [
    "# 2. Extract Features and Labels for Individuals\n",
    "\n",
    "This notebook contains the workflow for the second milestone in the Manning liveProject *Handling Sensitive Data.*"
   ]
  },
  {
   "cell_type": "code",
   "execution_count": 1,
   "id": "ec8e842c",
   "metadata": {},
   "outputs": [],
   "source": [
    "import pandas as pd\n",
    "import numpy as np\n",
    "from scipy.fft import fft\n",
    "import os.path\n",
    "from scipy.io import wavfile\n",
    "import matplotlib.pyplot as plt"
   ]
  },
  {
   "cell_type": "markdown",
   "id": "24e266e5",
   "metadata": {},
   "source": [
    "## Read data (copied from milestone 1)"
   ]
  },
  {
   "cell_type": "code",
   "execution_count": 2,
   "id": "35b458fb",
   "metadata": {},
   "outputs": [],
   "source": [
    "csvpath = \"../../data/\" # path to csv file\n",
    "wavpath = \"../../data/Recordings/\" # path to the folder with wav files"
   ]
  },
  {
   "cell_type": "code",
   "execution_count": 3,
   "id": "7ecd6fd7",
   "metadata": {},
   "outputs": [],
   "source": [
    "# import metadata\n",
    "meta = pd.read_csv(csvpath + \"Covid19Study_June2021.csv\", delimiter=\";\") \n",
    "\n",
    "# importing the wav files\n",
    "wavdata = []\n",
    "\n",
    "for pid in meta[\"ParticipantID\"].values:\n",
    "    if os.path.isfile(wavpath + \"RecordingParticipant\" + str(pid) +\".wav\"):\n",
    "        _, data = wavfile.read(wavpath + \"RecordingParticipant\" + str(pid) +\".wav\") # note: the wav files are 16-bit integer PCM\n",
    "    else:\n",
    "        sample_rate = 44100\n",
    "        data = np.zeros((10000,))\n",
    "    wavdata.append(np.array(data))"
   ]
  },
  {
   "cell_type": "markdown",
   "id": "073ab966",
   "metadata": {},
   "source": [
    "## Doing Fourier transform and creating feature matrix X\n",
    "The plot below is the feature vectors for the first 4 participants."
   ]
  },
  {
   "cell_type": "code",
   "execution_count": 4,
   "id": "110c4f21",
   "metadata": {},
   "outputs": [],
   "source": [
    "raw_last8192 = [wav[-8192:] for wav in wavdata] # extract the last 8192 sample values from each recording\n",
    "fft_last8192 = [np.abs(fft(rawwav)) for rawwav in raw_last8192] # get the absolute Fourier transformed values"
   ]
  },
  {
   "cell_type": "code",
   "execution_count": 5,
   "id": "2a0e2cff",
   "metadata": {},
   "outputs": [
    {
     "data": {
      "image/png": "[encoded data removed]",
      "text/plain": [
       "<Figure size 432x288 with 1 Axes>"
      ]
     },
     "metadata": {
      "needs_background": "light"
     },
     "output_type": "display_data"
    }
   ],
   "source": [
    "bins = [0,100,200,300,400,600,800,1000]\n",
    "X = np.zeros((len(fft_last8192), len(bins))) # array to store feature vectors\n",
    "\n",
    "fig, ax = plt.subplots()\n",
    "\n",
    "# normalize the absolute Fourier transformed values for indices listed in bins\n",
    "# and plot \n",
    "for i in range(len(fft_last8192)):\n",
    "    X[i,:] = fft_last8192[i][bins] / np.max(fft_last8192[i])\n",
    "    if i in range(4): \n",
    "        # plot the feature vectors of participants 1-4\n",
    "        ax.plot(np.arange(len(bins)), X[i,:],label=\"Participant %d\" % (i+1))\n",
    "\n",
    "# some settings for the plot\n",
    "ax.set_title(\"Feature vectors for the first 4 participants\")\n",
    "ax.set_xticks(range(len(bins)))\n",
    "ax.set_xlabel(\"k\")\n",
    "ax.set_xticklabels(bins)    \n",
    "plt.legend()\n",
    "plt.show()"
   ]
  },
  {
   "cell_type": "markdown",
   "id": "2d4668ff",
   "metadata": {},
   "source": [
    "## Creating labels y"
   ]
  },
  {
   "cell_type": "code",
   "execution_count": 6,
   "id": "be3d5675",
   "metadata": {},
   "outputs": [],
   "source": [
    "# creating y from the dataframe values\n",
    "y = np.array(meta[\"Covid19\"].copy())\n",
    "y = np.where(y==\"y\",1,-1)\n",
    "y = y.reshape(-1,1)"
   ]
  },
  {
   "cell_type": "markdown",
   "id": "3119ab90",
   "metadata": {},
   "source": [
    "## Some sanity checks"
   ]
  },
  {
   "cell_type": "code",
   "execution_count": 7,
   "id": "32ad377a",
   "metadata": {},
   "outputs": [
    {
     "name": "stdout",
     "output_type": "stream",
     "text": [
      "*******Sanity checks*******\n",
      "number of (unique) participants: 200\n",
      "X.shape = (200, 8)\n",
      "y.shape = (200, 1)\n",
      "unique values of y: [-1  1]\n"
     ]
    }
   ],
   "source": [
    "# Sanity checks\n",
    "print(\"*******Sanity checks*******\")\n",
    "print(\"number of (unique) participants:\", meta.ParticipantID.unique().shape[0])\n",
    "print(\"X.shape =\", X.shape)\n",
    "print(\"y.shape =\", y.shape)\n",
    "print(\"unique values of y:\", np.unique(y))"
   ]
  },
  {
   "cell_type": "code",
   "execution_count": null,
   "id": "116b4c65",
   "metadata": {},
   "outputs": [],
   "source": []
  }
 ],
 "metadata": {
  "kernelspec": {
   "display_name": "Python 3",
   "language": "python",
   "name": "python3"
  },
  "language_info": {
   "codemirror_mode": {
    "name": "ipython",
    "version": 3
   },
   "file_extension": ".py",
   "mimetype": "text/x-python",
   "name": "python",
   "nbconvert_exporter": "python",
   "pygments_lexer": "ipython3",
   "version": "3.8.3"
  }
 },
 "nbformat": 4,
 "nbformat_minor": 5
}

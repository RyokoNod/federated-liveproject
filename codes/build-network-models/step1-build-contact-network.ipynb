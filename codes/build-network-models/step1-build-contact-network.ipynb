{
 "cells": [
  {
   "cell_type": "markdown",
   "id": "090150fb",
   "metadata": {},
   "source": [
    "# 1. Build Contact Network\n",
    "\n",
    "This notebook contains the workflow for the first milestone in the Manning liveProject *Build Network Models for Pandemics.* *Build Network Models for Pandemics* is part of the series *Federated Learning Over Networks for Pandemics*."
   ]
  },
  {
   "cell_type": "code",
   "execution_count": 1,
   "id": "a27fd76f",
   "metadata": {},
   "outputs": [],
   "source": [
    "import pandas as pd\n",
    "import networkx as nx\n",
    "import numpy as np\n",
    "import matplotlib.pyplot as plt\n",
    "from datetime import datetime\n",
    "from geopy.distance import geodesic"
   ]
  },
  {
   "cell_type": "markdown",
   "id": "e336af8a",
   "metadata": {},
   "source": [
    "## Read data"
   ]
  },
  {
   "cell_type": "code",
   "execution_count": 2,
   "id": "fe23b9b0",
   "metadata": {},
   "outputs": [],
   "source": [
    "csvpath = \"../../data/\" # path to csv file"
   ]
  },
  {
   "cell_type": "code",
   "execution_count": 3,
   "id": "3f997208",
   "metadata": {
    "scrolled": true
   },
   "outputs": [
    {
     "data": {
      "text/html": [
       "<div>\n",
       "<style scoped>\n",
       "    .dataframe tbody tr th:only-of-type {\n",
       "        vertical-align: middle;\n",
       "    }\n",
       "\n",
       "    .dataframe tbody tr th {\n",
       "        vertical-align: top;\n",
       "    }\n",
       "\n",
       "    .dataframe thead th {\n",
       "        text-align: right;\n",
       "    }\n",
       "</style>\n",
       "<table border=\"1\" class=\"dataframe\">\n",
       "  <thead>\n",
       "    <tr style=\"text-align: right;\">\n",
       "      <th></th>\n",
       "      <th>ID</th>\n",
       "      <th>Lat</th>\n",
       "      <th>Lon</th>\n",
       "      <th>Date</th>\n",
       "      <th>Time</th>\n",
       "      <th>Covid19</th>\n",
       "    </tr>\n",
       "  </thead>\n",
       "  <tbody>\n",
       "    <tr>\n",
       "      <th>231</th>\n",
       "      <td>Person232</td>\n",
       "      <td>60.309191</td>\n",
       "      <td>25.036473</td>\n",
       "      <td>09-06-2021</td>\n",
       "      <td>13:52:09</td>\n",
       "      <td>y</td>\n",
       "    </tr>\n",
       "    <tr>\n",
       "      <th>214</th>\n",
       "      <td>Person215</td>\n",
       "      <td>60.309190</td>\n",
       "      <td>25.036464</td>\n",
       "      <td>09-06-2021</td>\n",
       "      <td>13:52:09</td>\n",
       "      <td>y</td>\n",
       "    </tr>\n",
       "    <tr>\n",
       "      <th>88</th>\n",
       "      <td>Person89</td>\n",
       "      <td>60.185387</td>\n",
       "      <td>25.009682</td>\n",
       "      <td>09-06-2021</td>\n",
       "      <td>13:52:09</td>\n",
       "      <td>n</td>\n",
       "    </tr>\n",
       "    <tr>\n",
       "      <th>173</th>\n",
       "      <td>Person174</td>\n",
       "      <td>60.168533</td>\n",
       "      <td>24.930488</td>\n",
       "      <td>09-06-2021</td>\n",
       "      <td>13:52:09</td>\n",
       "      <td>n</td>\n",
       "    </tr>\n",
       "    <tr>\n",
       "      <th>17</th>\n",
       "      <td>Person18</td>\n",
       "      <td>60.185390</td>\n",
       "      <td>25.009695</td>\n",
       "      <td>09-06-2021</td>\n",
       "      <td>13:52:09</td>\n",
       "      <td>n</td>\n",
       "    </tr>\n",
       "  </tbody>\n",
       "</table>\n",
       "</div>"
      ],
      "text/plain": [
       "            ID        Lat        Lon        Date      Time Covid19\n",
       "231  Person232  60.309191  25.036473  09-06-2021  13:52:09       y\n",
       "214  Person215  60.309190  25.036464  09-06-2021  13:52:09       y\n",
       "88    Person89  60.185387  25.009682  09-06-2021  13:52:09       n\n",
       "173  Person174  60.168533  24.930488  09-06-2021  13:52:09       n\n",
       "17    Person18  60.185390  25.009695  09-06-2021  13:52:09       n"
      ]
     },
     "execution_count": 3,
     "metadata": {},
     "output_type": "execute_result"
    }
   ],
   "source": [
    "# import location data and show sample rows\n",
    "df = pd.read_csv(csvpath + \"PeopleLocations_p2.csv\", delimiter=\";\")\n",
    "df.sample(5)"
   ]
  },
  {
   "cell_type": "markdown",
   "id": "d740e03c",
   "metadata": {},
   "source": [
    "## Create graph and nodes"
   ]
  },
  {
   "cell_type": "code",
   "execution_count": 4,
   "id": "876ee5c5",
   "metadata": {},
   "outputs": [],
   "source": [
    "G = nx.Graph()"
   ]
  },
  {
   "cell_type": "code",
   "execution_count": 5,
   "id": "66e4b14a",
   "metadata": {},
   "outputs": [],
   "source": [
    "for idx, person in df.iterrows():\n",
    "    # format the coordinates\n",
    "    coord = np.array((person[\"Lat\"],person[\"Lon\"]))\n",
    "    \n",
    "    # convert and combine the date and time\n",
    "    date = datetime.strptime(person[\"Date\"], \"%d-%m-%Y\").date()\n",
    "    time = datetime.strptime(person[\"Time\"], \"%H:%M:%S\").time()\n",
    "    date_time = datetime.combine(date,time)\n",
    "    \n",
    "    # convert y and n into integers\n",
    "    if person[\"Covid19\"]==\"y\":\n",
    "        rate = 1\n",
    "    else:\n",
    "        rate = 0\n",
    "    \n",
    "    # add node and create attributes\n",
    "    G.add_node(idx)\n",
    "    G.nodes[idx][\"name\"] = person[\"ID\"]\n",
    "    G.nodes[idx][\"coords\"] = coord\n",
    "    G.nodes[idx][\"timestamp\"] = date_time\n",
    "    G.nodes[idx][\"Rate\"] = rate"
   ]
  },
  {
   "cell_type": "markdown",
   "id": "7dee9bfa",
   "metadata": {},
   "source": [
    "## Create edges"
   ]
  },
  {
   "cell_type": "code",
   "execution_count": 6,
   "id": "e3bf7c36",
   "metadata": {},
   "outputs": [],
   "source": [
    "for i in G.nodes:\n",
    "    for j in G.nodes:\n",
    "        if G.nodes[i] != G.nodes[j]:\n",
    "            distance = geodesic(G.nodes[i][\"coords\"], G.nodes[j][\"coords\"]).m # .m gets the distance from coordinates in meters\n",
    "            if distance < 2:\n",
    "                G.add_edge(i,j)"
   ]
  },
  {
   "cell_type": "code",
   "execution_count": 7,
   "id": "1015bb16",
   "metadata": {},
   "outputs": [
    {
     "data": {
      "text/plain": [
       "<function matplotlib.pyplot.show(close=None, block=None)>"
      ]
     },
     "execution_count": 7,
     "metadata": {},
     "output_type": "execute_result"
    },
    {
     "data": {
      "image/png": "[encoded data removed]",
      "text/plain": [
       "<Figure size 432x288 with 1 Axes>"
      ]
     },
     "metadata": {},
     "output_type": "display_data"
    }
   ],
   "source": [
    "# this isn't really part of this milestone\n",
    "# I'm showing the plots just to see if I do have nodes and edges\n",
    "nx.draw(G)\n",
    "plt.show"
   ]
  },
  {
   "cell_type": "code",
   "execution_count": null,
   "id": "bd7d5237",
   "metadata": {},
   "outputs": [],
   "source": []
  }
 ],
 "metadata": {
  "kernelspec": {
   "display_name": "Python 3",
   "language": "python",
   "name": "python3"
  },
  "language_info": {
   "codemirror_mode": {
    "name": "ipython",
    "version": 3
   },
   "file_extension": ".py",
   "mimetype": "text/x-python",
   "name": "python",
   "nbconvert_exporter": "python",
   "pygments_lexer": "ipython3",
   "version": "3.8.3"
  }
 },
 "nbformat": 4,
 "nbformat_minor": 5
}

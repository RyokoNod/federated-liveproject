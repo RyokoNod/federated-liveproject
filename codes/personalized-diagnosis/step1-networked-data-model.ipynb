{
 "cells": [
  {
   "cell_type": "markdown",
   "id": "87226291",
   "metadata": {},
   "source": [
    "# 1. Networked Data and Model\n",
    "\n",
    "This notebook contains the workflow for the first milestone in the Manning liveProject *Personalized Diagnosis of Symptoms*. *Personalized Diagnosis of Symptoms* is part of the series *Federated Learning Over Networks for Pandemics*."
   ]
  },
  {
   "cell_type": "code",
   "execution_count": 1,
   "id": "d6bfcecd",
   "metadata": {},
   "outputs": [],
   "source": [
    "import numpy as np\n",
    "import networkx as nx\n",
    "import torch"
   ]
  },
  {
   "cell_type": "code",
   "execution_count": 2,
   "id": "591a39db",
   "metadata": {},
   "outputs": [],
   "source": [
    "B = 30 # size of the blocks\n",
    "n=1# number of weights = number of features\n",
    "m=5 # sample size"
   ]
  },
  {
   "cell_type": "markdown",
   "id": "cd16a26c",
   "metadata": {},
   "source": [
    "## Generate network"
   ]
  },
  {
   "cell_type": "code",
   "execution_count": 3,
   "id": "0ad6aac3",
   "metadata": {},
   "outputs": [],
   "source": [
    "sizes = [B] * 3\n",
    "probs = [[0.8, 0.1, 0.1], [0.1, 0.8, 0.1], [0.1, 0.1, 0.8]]\n",
    "\n",
    "G = nx.stochastic_block_model(sizes, probs, seed=0)\n",
    "\n",
    "# set weights for each block - am I doing this right?\n",
    "b1_weights = torch.zeros((1,n))\n",
    "b2_weights = torch.zeros((1,n))\n",
    "b3_weights = torch.zeros((1,n))"
   ]
  },
  {
   "cell_type": "markdown",
   "id": "8b0b45e0",
   "metadata": {},
   "source": [
    "## Set node attributes"
   ]
  },
  {
   "cell_type": "code",
   "execution_count": 4,
   "id": "0c1dfcc9",
   "metadata": {},
   "outputs": [
    {
     "name": "stderr",
     "output_type": "stream",
     "text": [
      "/Users/t-r-espr/opt/anaconda3/lib/python3.8/site-packages/torch/nn/_reduction.py:44: UserWarning: size_average and reduce args will be deprecated, please use reduction='mean' instead.\n",
      "  warnings.warn(warning.format(ret))\n"
     ]
    }
   ],
   "source": [
    "for i in G.nodes:\n",
    "    G.nodes[i][\"weight\"] = np.zeros((1,n))\n",
    "    G.nodes[i][\"cluster\"] = G.nodes[i][\"block\"] + 1\n",
    "    G.nodes[i][\"features\"] =torch.randn(size=(n,m))\n",
    "    \n",
    "    # labels are the products of features and block weights\n",
    "    if G.nodes[i][\"block\"]==0:\n",
    "        G.nodes[i][\"label\"] = torch.matmul(b1_weights,G.nodes[i][\"features\"])\n",
    "    if G.nodes[i][\"block\"]==1:\n",
    "        G.nodes[i][\"label\"] = torch.matmul(b2_weights,G.nodes[i][\"features\"])\n",
    "    if G.nodes[i][\"block\"]==2:\n",
    "        G.nodes[i][\"label\"] = torch.matmul(b3_weights,G.nodes[i][\"features\"])\n",
    "    \n",
    "    G.nodes[i][\"model\"] = torch.nn.Linear(in_features=n, out_features=1, bias=False)\n",
    "    G.nodes[i][\"optimizer\"] = torch.optim.LBFGS(G.nodes[i][\"model\"].parameters())\n",
    "    G.nodes[i][\"criterion\"] = torch.nn.MSELoss(size_average=True)"
   ]
  },
  {
   "cell_type": "markdown",
   "id": "ecad9ad6",
   "metadata": {},
   "source": [
    "## Set edge attributes"
   ]
  },
  {
   "cell_type": "code",
   "execution_count": 5,
   "id": "58720d24",
   "metadata": {},
   "outputs": [],
   "source": [
    "for i,j in G.edges:\n",
    "    G.edges[i,j][\"weight\"] = np.zeros((1,n))"
   ]
  },
  {
   "cell_type": "code",
   "execution_count": null,
   "id": "47ffd806",
   "metadata": {},
   "outputs": [],
   "source": []
  }
 ],
 "metadata": {
  "kernelspec": {
   "display_name": "Python 3",
   "language": "python",
   "name": "python3"
  },
  "language_info": {
   "codemirror_mode": {
    "name": "ipython",
    "version": 3
   },
   "file_extension": ".py",
   "mimetype": "text/x-python",
   "name": "python",
   "nbconvert_exporter": "python",
   "pygments_lexer": "ipython3",
   "version": "3.8.3"
  }
 },
 "nbformat": 4,
 "nbformat_minor": 5
}
